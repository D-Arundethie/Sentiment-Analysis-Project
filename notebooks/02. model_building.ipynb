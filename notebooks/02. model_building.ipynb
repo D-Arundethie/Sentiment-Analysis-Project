{
 "cells": [
  {
   "cell_type": "code",
   "execution_count": 1,
   "id": "b6e67849",
   "metadata": {},
   "outputs": [],
   "source": [
    "import numpy as np\n",
    "import pandas as pd\n",
    "import matplotlib.pyplot as plt"
   ]
  },
  {
   "cell_type": "code",
   "execution_count": 2,
   "id": "74db2591",
   "metadata": {},
   "outputs": [],
   "source": [
    "data = pd.read_csv('../artifacts/sentiment_analysis.csv')"
   ]
  },
  {
   "cell_type": "code",
   "execution_count": 3,
   "id": "8f87ede3",
   "metadata": {},
   "outputs": [
    {
     "data": {
      "text/html": [
       "<div>\n",
       "<style scoped>\n",
       "    .dataframe tbody tr th:only-of-type {\n",
       "        vertical-align: middle;\n",
       "    }\n",
       "\n",
       "    .dataframe tbody tr th {\n",
       "        vertical-align: top;\n",
       "    }\n",
       "\n",
       "    .dataframe thead th {\n",
       "        text-align: right;\n",
       "    }\n",
       "</style>\n",
       "<table border=\"1\" class=\"dataframe\">\n",
       "  <thead>\n",
       "    <tr style=\"text-align: right;\">\n",
       "      <th></th>\n",
       "      <th>id</th>\n",
       "      <th>label</th>\n",
       "      <th>tweet</th>\n",
       "    </tr>\n",
       "  </thead>\n",
       "  <tbody>\n",
       "    <tr>\n",
       "      <th>0</th>\n",
       "      <td>1</td>\n",
       "      <td>0</td>\n",
       "      <td>#fingerprint #Pregnancy Test https://goo.gl/h1...</td>\n",
       "    </tr>\n",
       "    <tr>\n",
       "      <th>1</th>\n",
       "      <td>2</td>\n",
       "      <td>0</td>\n",
       "      <td>Finally a transparant silicon case ^^ Thanks t...</td>\n",
       "    </tr>\n",
       "    <tr>\n",
       "      <th>2</th>\n",
       "      <td>3</td>\n",
       "      <td>0</td>\n",
       "      <td>We love this! Would you go? #talk #makememorie...</td>\n",
       "    </tr>\n",
       "    <tr>\n",
       "      <th>3</th>\n",
       "      <td>4</td>\n",
       "      <td>0</td>\n",
       "      <td>I'm wired I know I'm George I was made that wa...</td>\n",
       "    </tr>\n",
       "    <tr>\n",
       "      <th>4</th>\n",
       "      <td>5</td>\n",
       "      <td>1</td>\n",
       "      <td>What amazing service! Apple won't even talk to...</td>\n",
       "    </tr>\n",
       "  </tbody>\n",
       "</table>\n",
       "</div>"
      ],
      "text/plain": [
       "   id  label                                              tweet\n",
       "0   1      0  #fingerprint #Pregnancy Test https://goo.gl/h1...\n",
       "1   2      0  Finally a transparant silicon case ^^ Thanks t...\n",
       "2   3      0  We love this! Would you go? #talk #makememorie...\n",
       "3   4      0  I'm wired I know I'm George I was made that wa...\n",
       "4   5      1  What amazing service! Apple won't even talk to..."
      ]
     },
     "execution_count": 3,
     "metadata": {},
     "output_type": "execute_result"
    }
   ],
   "source": [
    "data.head()"
   ]
  },
  {
   "cell_type": "markdown",
   "id": "bbfec2e7",
   "metadata": {},
   "source": [
    "# DATA PREPROCESSING"
   ]
  },
  {
   "cell_type": "code",
   "execution_count": 4,
   "id": "e9925a71",
   "metadata": {},
   "outputs": [
    {
     "data": {
      "text/plain": [
       "(7920, 3)"
      ]
     },
     "execution_count": 4,
     "metadata": {},
     "output_type": "execute_result"
    }
   ],
   "source": [
    "data.shape"
   ]
  },
  {
   "cell_type": "code",
   "execution_count": 5,
   "id": "ef53dc1c",
   "metadata": {},
   "outputs": [
    {
     "data": {
      "text/plain": [
       "0"
      ]
     },
     "execution_count": 5,
     "metadata": {},
     "output_type": "execute_result"
    }
   ],
   "source": [
    "data.duplicated().sum()"
   ]
  },
  {
   "cell_type": "code",
   "execution_count": 6,
   "id": "b4e81e9d",
   "metadata": {},
   "outputs": [
    {
     "data": {
      "text/plain": [
       "id       0\n",
       "label    0\n",
       "tweet    0\n",
       "dtype: int64"
      ]
     },
     "execution_count": 6,
     "metadata": {},
     "output_type": "execute_result"
    }
   ],
   "source": [
    "data.isnull().sum()"
   ]
  },
  {
   "cell_type": "markdown",
   "id": "f4ad527b",
   "metadata": {},
   "source": [
    "### Text Preprocessing"
   ]
  },
  {
   "cell_type": "code",
   "execution_count": 7,
   "id": "77754f42",
   "metadata": {},
   "outputs": [],
   "source": [
    "import re\n",
    "import string"
   ]
  },
  {
   "cell_type": "code",
   "execution_count": 8,
   "id": "1d7ad576",
   "metadata": {},
   "outputs": [
    {
     "data": {
      "text/plain": [
       "0    #fingerprint #pregnancy test https://goo.gl/h1...\n",
       "1    finally a transparant silicon case ^^ thanks t...\n",
       "2    we love this! would you go? #talk #makememorie...\n",
       "3    i'm wired i know i'm george i was made that wa...\n",
       "4    what amazing service! apple won't even talk to...\n",
       "Name: tweet, dtype: object"
      ]
     },
     "execution_count": 8,
     "metadata": {},
     "output_type": "execute_result"
    }
   ],
   "source": [
    "#convert upercase to lowercase\n",
    "data[\"tweet\"] = data[\"tweet\"].apply(lambda x: \" \".join(x.lower() for x in x.split()))\n",
    "data[\"tweet\"].head()"
   ]
  },
  {
   "cell_type": "code",
   "execution_count": 9,
   "id": "21929fdd",
   "metadata": {},
   "outputs": [
    {
     "data": {
      "text/plain": [
       "0    #fingerprint #pregnancy test  #android #apps #...\n",
       "1    finally a transparant silicon case ^^ thanks t...\n",
       "2    we love this! would you go? #talk #makememorie...\n",
       "3    i'm wired i know i'm george i was made that wa...\n",
       "4    what amazing service! apple won't even talk to...\n",
       "Name: tweet, dtype: object"
      ]
     },
     "execution_count": 9,
     "metadata": {},
     "output_type": "execute_result"
    }
   ],
   "source": [
    "#remove links\n",
    "data[\"tweet\"] = data['tweet'].apply(lambda x: \" \".join(re.sub(r'^https?:\\/\\/.*[\\r\\n]*', '', x, flags=re.MULTILINE) for x in x.split()))\n",
    "data[\"tweet\"].head()"
   ]
  },
  {
   "cell_type": "code",
   "execution_count": 10,
   "id": "0119cb41",
   "metadata": {},
   "outputs": [
    {
     "data": {
      "text/plain": [
       "'!\"#$%&\\'()*+,-./:;<=>?@[\\\\]^_`{|}~'"
      ]
     },
     "execution_count": 10,
     "metadata": {},
     "output_type": "execute_result"
    }
   ],
   "source": [
    "string.punctuation"
   ]
  },
  {
   "cell_type": "code",
   "execution_count": 11,
   "id": "1f1cda6d",
   "metadata": {},
   "outputs": [
    {
     "data": {
      "text/plain": [
       "7915    live out loud lol liveoutloud selfie smile son...\n",
       "7916    we would like to wish you an amazing day make ...\n",
       "7917    helping my lovely 90 year old neighbor with he...\n",
       "7918    finally got my smart pocket wifi stay connecte...\n",
       "7919    apple barcelona apple store bcn barcelona trav...\n",
       "Name: tweet, dtype: object"
      ]
     },
     "execution_count": 11,
     "metadata": {},
     "output_type": "execute_result"
    }
   ],
   "source": [
    "#remove punctuations\n",
    "def remove_punctuations(text):\n",
    "    for punctuation in string.punctuation:\n",
    "        text = text.replace(punctuation,'')\n",
    "    return text\n",
    "data[\"tweet\"] = data[\"tweet\"].apply(remove_punctuations)\n",
    "data[\"tweet\"].tail()"
   ]
  },
  {
   "cell_type": "code",
   "execution_count": 12,
   "id": "00a44da6",
   "metadata": {},
   "outputs": [
    {
     "data": {
      "text/plain": [
       "7915    live out loud lol liveoutloud selfie smile son...\n",
       "7916    we would like to wish you an amazing day make ...\n",
       "7917    helping my lovely  year old neighbor with her ...\n",
       "7918    finally got my smart pocket wifi stay connecte...\n",
       "7919    apple barcelona apple store bcn barcelona trav...\n",
       "Name: tweet, dtype: object"
      ]
     },
     "execution_count": 12,
     "metadata": {},
     "output_type": "execute_result"
    }
   ],
   "source": [
    "#remove numbers\n",
    "data[\"tweet\"] = data['tweet'].str.replace('\\d+','',regex=True)\n",
    "data[\"tweet\"].tail()"
   ]
  },
  {
   "cell_type": "code",
   "execution_count": 13,
   "id": "4b096139",
   "metadata": {},
   "outputs": [
    {
     "name": "stdout",
     "output_type": "stream",
     "text": [
      "Requirement already satisfied: nltk in c:\\users\\user\\anaconda3\\lib\\site-packages (3.6.5)\n",
      "Requirement already satisfied: click in c:\\users\\user\\anaconda3\\lib\\site-packages (from nltk) (8.0.3)\n",
      "Requirement already satisfied: joblib in c:\\users\\user\\anaconda3\\lib\\site-packages (from nltk) (1.4.2)\n",
      "Requirement already satisfied: regex>=2021.8.3 in c:\\users\\user\\anaconda3\\lib\\site-packages (from nltk) (2021.8.3)\n",
      "Requirement already satisfied: tqdm in c:\\users\\user\\anaconda3\\lib\\site-packages (from nltk) (4.62.3)\n",
      "Requirement already satisfied: colorama in c:\\users\\user\\anaconda3\\lib\\site-packages (from click->nltk) (0.4.4)\n"
     ]
    }
   ],
   "source": [
    "#remove stopwords\n",
    "!pip install nltk"
   ]
  },
  {
   "cell_type": "code",
   "execution_count": 14,
   "id": "20eb3d29",
   "metadata": {},
   "outputs": [],
   "source": [
    "import nltk"
   ]
  },
  {
   "cell_type": "code",
   "execution_count": 15,
   "id": "0561a3b3",
   "metadata": {},
   "outputs": [
    {
     "name": "stderr",
     "output_type": "stream",
     "text": [
      "[nltk_data] Downloading package stopwords to ../static/model...\n",
      "[nltk_data]   Package stopwords is already up-to-date!\n"
     ]
    },
    {
     "data": {
      "text/plain": [
       "True"
      ]
     },
     "execution_count": 15,
     "metadata": {},
     "output_type": "execute_result"
    }
   ],
   "source": [
    "nltk.download('stopwords', download_dir='../static/model')"
   ]
  },
  {
   "cell_type": "code",
   "execution_count": 16,
   "id": "a8237dbd",
   "metadata": {},
   "outputs": [
    {
     "data": {
      "text/plain": [
       "['i',\n",
       " 'me',\n",
       " 'my',\n",
       " 'myself',\n",
       " 'we',\n",
       " 'our',\n",
       " 'ours',\n",
       " 'ourselves',\n",
       " 'you',\n",
       " \"you're\",\n",
       " \"you've\",\n",
       " \"you'll\",\n",
       " \"you'd\",\n",
       " 'your',\n",
       " 'yours',\n",
       " 'yourself',\n",
       " 'yourselves',\n",
       " 'he',\n",
       " 'him',\n",
       " 'his',\n",
       " 'himself',\n",
       " 'she',\n",
       " \"she's\",\n",
       " 'her',\n",
       " 'hers',\n",
       " 'herself',\n",
       " 'it',\n",
       " \"it's\",\n",
       " 'its',\n",
       " 'itself',\n",
       " 'they',\n",
       " 'them',\n",
       " 'their',\n",
       " 'theirs',\n",
       " 'themselves',\n",
       " 'what',\n",
       " 'which',\n",
       " 'who',\n",
       " 'whom',\n",
       " 'this',\n",
       " 'that',\n",
       " \"that'll\",\n",
       " 'these',\n",
       " 'those',\n",
       " 'am',\n",
       " 'is',\n",
       " 'are',\n",
       " 'was',\n",
       " 'were',\n",
       " 'be',\n",
       " 'been',\n",
       " 'being',\n",
       " 'have',\n",
       " 'has',\n",
       " 'had',\n",
       " 'having',\n",
       " 'do',\n",
       " 'does',\n",
       " 'did',\n",
       " 'doing',\n",
       " 'a',\n",
       " 'an',\n",
       " 'the',\n",
       " 'and',\n",
       " 'but',\n",
       " 'if',\n",
       " 'or',\n",
       " 'because',\n",
       " 'as',\n",
       " 'until',\n",
       " 'while',\n",
       " 'of',\n",
       " 'at',\n",
       " 'by',\n",
       " 'for',\n",
       " 'with',\n",
       " 'about',\n",
       " 'against',\n",
       " 'between',\n",
       " 'into',\n",
       " 'through',\n",
       " 'during',\n",
       " 'before',\n",
       " 'after',\n",
       " 'above',\n",
       " 'below',\n",
       " 'to',\n",
       " 'from',\n",
       " 'up',\n",
       " 'down',\n",
       " 'in',\n",
       " 'out',\n",
       " 'on',\n",
       " 'off',\n",
       " 'over',\n",
       " 'under',\n",
       " 'again',\n",
       " 'further',\n",
       " 'then',\n",
       " 'once',\n",
       " 'here',\n",
       " 'there',\n",
       " 'when',\n",
       " 'where',\n",
       " 'why',\n",
       " 'how',\n",
       " 'all',\n",
       " 'any',\n",
       " 'both',\n",
       " 'each',\n",
       " 'few',\n",
       " 'more',\n",
       " 'most',\n",
       " 'other',\n",
       " 'some',\n",
       " 'such',\n",
       " 'no',\n",
       " 'nor',\n",
       " 'not',\n",
       " 'only',\n",
       " 'own',\n",
       " 'same',\n",
       " 'so',\n",
       " 'than',\n",
       " 'too',\n",
       " 'very',\n",
       " 's',\n",
       " 't',\n",
       " 'can',\n",
       " 'will',\n",
       " 'just',\n",
       " 'don',\n",
       " \"don't\",\n",
       " 'should',\n",
       " \"should've\",\n",
       " 'now',\n",
       " 'd',\n",
       " 'll',\n",
       " 'm',\n",
       " 'o',\n",
       " 're',\n",
       " 've',\n",
       " 'y',\n",
       " 'ain',\n",
       " 'aren',\n",
       " \"aren't\",\n",
       " 'couldn',\n",
       " \"couldn't\",\n",
       " 'didn',\n",
       " \"didn't\",\n",
       " 'doesn',\n",
       " \"doesn't\",\n",
       " 'hadn',\n",
       " \"hadn't\",\n",
       " 'hasn',\n",
       " \"hasn't\",\n",
       " 'haven',\n",
       " \"haven't\",\n",
       " 'isn',\n",
       " \"isn't\",\n",
       " 'ma',\n",
       " 'mightn',\n",
       " \"mightn't\",\n",
       " 'mustn',\n",
       " \"mustn't\",\n",
       " 'needn',\n",
       " \"needn't\",\n",
       " 'shan',\n",
       " \"shan't\",\n",
       " 'shouldn',\n",
       " \"shouldn't\",\n",
       " 'wasn',\n",
       " \"wasn't\",\n",
       " 'weren',\n",
       " \"weren't\",\n",
       " 'won',\n",
       " \"won't\",\n",
       " 'wouldn',\n",
       " \"wouldn't\"]"
      ]
     },
     "execution_count": 16,
     "metadata": {},
     "output_type": "execute_result"
    }
   ],
   "source": [
    "with open('../static/model/corpora/stopwords/english', 'r') as file:\n",
    "    sw = file.read().splitlines()\n",
    "sw"
   ]
  },
  {
   "cell_type": "code",
   "execution_count": 17,
   "id": "bad85abd",
   "metadata": {},
   "outputs": [
    {
     "data": {
      "text/plain": [
       "0    fingerprint pregnancy test android apps beauti...\n",
       "1    finally transparant silicon case thanks uncle ...\n",
       "2    love would go talk makememories unplug relax i...\n",
       "3    im wired know im george made way iphone cute d...\n",
       "4    amazing service apple wont even talk question ...\n",
       "Name: tweet, dtype: object"
      ]
     },
     "execution_count": 17,
     "metadata": {},
     "output_type": "execute_result"
    }
   ],
   "source": [
    "data[\"tweet\"] = data['tweet'].apply(lambda x: \" \".join(x for x in x.split() if x not in sw))\n",
    "data[\"tweet\"].head()"
   ]
  },
  {
   "cell_type": "code",
   "execution_count": 18,
   "id": "39d06c86",
   "metadata": {},
   "outputs": [],
   "source": [
    "#Stemming\n",
    "from nltk.stem import PorterStemmer\n",
    "ps = PorterStemmer()"
   ]
  },
  {
   "cell_type": "code",
   "execution_count": 19,
   "id": "2746e705",
   "metadata": {},
   "outputs": [
    {
     "data": {
      "text/plain": [
       "0    fingerprint pregnanc test android app beauti c...\n",
       "1    final transpar silicon case thank uncl yay son...\n",
       "2    love would go talk makememori unplug relax iph...\n",
       "3    im wire know im georg made way iphon cute dave...\n",
       "4    amaz servic appl wont even talk question unles...\n",
       "Name: tweet, dtype: object"
      ]
     },
     "execution_count": 19,
     "metadata": {},
     "output_type": "execute_result"
    }
   ],
   "source": [
    "data[\"tweet\"] = data[\"tweet\"].apply(lambda x: \" \".join(ps.stem(x) for x in x.split()))\n",
    "data[\"tweet\"].head()"
   ]
  },
  {
   "cell_type": "code",
   "execution_count": 20,
   "id": "abc96f74",
   "metadata": {},
   "outputs": [
    {
     "data": {
      "text/html": [
       "<div>\n",
       "<style scoped>\n",
       "    .dataframe tbody tr th:only-of-type {\n",
       "        vertical-align: middle;\n",
       "    }\n",
       "\n",
       "    .dataframe tbody tr th {\n",
       "        vertical-align: top;\n",
       "    }\n",
       "\n",
       "    .dataframe thead th {\n",
       "        text-align: right;\n",
       "    }\n",
       "</style>\n",
       "<table border=\"1\" class=\"dataframe\">\n",
       "  <thead>\n",
       "    <tr style=\"text-align: right;\">\n",
       "      <th></th>\n",
       "      <th>id</th>\n",
       "      <th>label</th>\n",
       "      <th>tweet</th>\n",
       "    </tr>\n",
       "  </thead>\n",
       "  <tbody>\n",
       "    <tr>\n",
       "      <th>0</th>\n",
       "      <td>1</td>\n",
       "      <td>0</td>\n",
       "      <td>fingerprint pregnanc test android app beauti c...</td>\n",
       "    </tr>\n",
       "    <tr>\n",
       "      <th>1</th>\n",
       "      <td>2</td>\n",
       "      <td>0</td>\n",
       "      <td>final transpar silicon case thank uncl yay son...</td>\n",
       "    </tr>\n",
       "    <tr>\n",
       "      <th>2</th>\n",
       "      <td>3</td>\n",
       "      <td>0</td>\n",
       "      <td>love would go talk makememori unplug relax iph...</td>\n",
       "    </tr>\n",
       "    <tr>\n",
       "      <th>3</th>\n",
       "      <td>4</td>\n",
       "      <td>0</td>\n",
       "      <td>im wire know im georg made way iphon cute dave...</td>\n",
       "    </tr>\n",
       "    <tr>\n",
       "      <th>4</th>\n",
       "      <td>5</td>\n",
       "      <td>1</td>\n",
       "      <td>amaz servic appl wont even talk question unles...</td>\n",
       "    </tr>\n",
       "    <tr>\n",
       "      <th>...</th>\n",
       "      <td>...</td>\n",
       "      <td>...</td>\n",
       "      <td>...</td>\n",
       "    </tr>\n",
       "    <tr>\n",
       "      <th>7915</th>\n",
       "      <td>7916</td>\n",
       "      <td>0</td>\n",
       "      <td>live loud lol liveoutloud selfi smile soni mus...</td>\n",
       "    </tr>\n",
       "    <tr>\n",
       "      <th>7916</th>\n",
       "      <td>7917</td>\n",
       "      <td>0</td>\n",
       "      <td>would like wish amaz day make everi minut coun...</td>\n",
       "    </tr>\n",
       "    <tr>\n",
       "      <th>7917</th>\n",
       "      <td>7918</td>\n",
       "      <td>0</td>\n",
       "      <td>help love year old neighbor ipad morn made rea...</td>\n",
       "    </tr>\n",
       "    <tr>\n",
       "      <th>7918</th>\n",
       "      <td>7919</td>\n",
       "      <td>0</td>\n",
       "      <td>final got smart pocket wifi stay connect anyti...</td>\n",
       "    </tr>\n",
       "    <tr>\n",
       "      <th>7919</th>\n",
       "      <td>7920</td>\n",
       "      <td>0</td>\n",
       "      <td>appl barcelona appl store bcn barcelona travel...</td>\n",
       "    </tr>\n",
       "  </tbody>\n",
       "</table>\n",
       "<p>7920 rows × 3 columns</p>\n",
       "</div>"
      ],
      "text/plain": [
       "        id  label                                              tweet\n",
       "0        1      0  fingerprint pregnanc test android app beauti c...\n",
       "1        2      0  final transpar silicon case thank uncl yay son...\n",
       "2        3      0  love would go talk makememori unplug relax iph...\n",
       "3        4      0  im wire know im georg made way iphon cute dave...\n",
       "4        5      1  amaz servic appl wont even talk question unles...\n",
       "...    ...    ...                                                ...\n",
       "7915  7916      0  live loud lol liveoutloud selfi smile soni mus...\n",
       "7916  7917      0  would like wish amaz day make everi minut coun...\n",
       "7917  7918      0  help love year old neighbor ipad morn made rea...\n",
       "7918  7919      0  final got smart pocket wifi stay connect anyti...\n",
       "7919  7920      0  appl barcelona appl store bcn barcelona travel...\n",
       "\n",
       "[7920 rows x 3 columns]"
      ]
     },
     "execution_count": 20,
     "metadata": {},
     "output_type": "execute_result"
    }
   ],
   "source": [
    "data"
   ]
  },
  {
   "cell_type": "markdown",
   "id": "7c6bbca8",
   "metadata": {},
   "source": [
    "## Building Vacabulary"
   ]
  },
  {
   "cell_type": "code",
   "execution_count": 21,
   "id": "826cc9e8",
   "metadata": {},
   "outputs": [],
   "source": [
    "from collections import Counter\n",
    "vocab = Counter()"
   ]
  },
  {
   "cell_type": "code",
   "execution_count": 22,
   "id": "983e294e",
   "metadata": {},
   "outputs": [
    {
     "data": {
      "text/plain": [
       "15949"
      ]
     },
     "execution_count": 22,
     "metadata": {},
     "output_type": "execute_result"
    }
   ],
   "source": [
    "for sentence in data['tweet']:\n",
    "    vocab.update(sentence.split())\n",
    "len(vocab)"
   ]
  },
  {
   "cell_type": "code",
   "execution_count": 23,
   "id": "1291ed4f",
   "metadata": {},
   "outputs": [
    {
     "data": {
      "text/plain": [
       "(7920, 3)"
      ]
     },
     "execution_count": 23,
     "metadata": {},
     "output_type": "execute_result"
    }
   ],
   "source": [
    "data.shape"
   ]
  },
  {
   "cell_type": "code",
   "execution_count": 24,
   "id": "4ddc3b97",
   "metadata": {},
   "outputs": [],
   "source": [
    "# data set is overfitting\n",
    "# colomns = 15949 rows = 7920"
   ]
  },
  {
   "cell_type": "code",
   "execution_count": 25,
   "id": "a47809fb",
   "metadata": {},
   "outputs": [
    {
     "data": {
      "text/plain": [
       "['test',\n",
       " 'android',\n",
       " 'app',\n",
       " 'beauti',\n",
       " 'cute',\n",
       " 'health',\n",
       " 'iger',\n",
       " 'iphoneonli',\n",
       " 'iphonesia',\n",
       " 'iphon',\n",
       " 'final',\n",
       " 'case',\n",
       " 'thank',\n",
       " 'yay',\n",
       " 'soni',\n",
       " 'xperia',\n",
       " 'love',\n",
       " 'would',\n",
       " 'go',\n",
       " 'talk',\n",
       " 'relax',\n",
       " 'smartphon',\n",
       " 'wifi',\n",
       " 'connect',\n",
       " 'im',\n",
       " 'know',\n",
       " 'made',\n",
       " 'way',\n",
       " 'home',\n",
       " 'amaz',\n",
       " 'servic',\n",
       " 'appl',\n",
       " 'wont',\n",
       " 'even',\n",
       " 'question',\n",
       " 'pay',\n",
       " 'stupid',\n",
       " 'support',\n",
       " 'softwar',\n",
       " 'updat',\n",
       " 'fuck',\n",
       " 'phone',\n",
       " 'big',\n",
       " 'time',\n",
       " 'happi',\n",
       " 'us',\n",
       " 'instap',\n",
       " 'instadaili',\n",
       " 'xperiaz',\n",
       " 'new',\n",
       " 'type',\n",
       " 'c',\n",
       " 'charger',\n",
       " 'cabl',\n",
       " 'uk',\n",
       " '…',\n",
       " 'amazon',\n",
       " 'year',\n",
       " 'newyear',\n",
       " 'start',\n",
       " 'technolog',\n",
       " 'samsunggalaxi',\n",
       " 'iphonex',\n",
       " 'shop',\n",
       " 'listen',\n",
       " 'music',\n",
       " 'likeforlik',\n",
       " 'photo',\n",
       " 'fun',\n",
       " 'selfi',\n",
       " 'water',\n",
       " 'camera',\n",
       " 'picoftheday',\n",
       " 'sun',\n",
       " 'instagood',\n",
       " 'boy',\n",
       " 'outdoor',\n",
       " 'hey',\n",
       " 'make',\n",
       " 'ipod',\n",
       " 'dont',\n",
       " 'color',\n",
       " 'inch',\n",
       " 'crash',\n",
       " 'everi',\n",
       " 'need',\n",
       " 'realli',\n",
       " 'drop',\n",
       " 'ball',\n",
       " 'design',\n",
       " 'give',\n",
       " 'anoth',\n",
       " 'crazi',\n",
       " 'purchas',\n",
       " 'lol',\n",
       " 'work',\n",
       " 'hard',\n",
       " 'play',\n",
       " 'ipad',\n",
       " 'batteri',\n",
       " 'charg',\n",
       " 'dead',\n",
       " 'saturday',\n",
       " 'summer',\n",
       " 'like',\n",
       " 'share',\n",
       " 'want',\n",
       " 'instagram',\n",
       " 'photooftheday',\n",
       " 'tweegram',\n",
       " 'reason',\n",
       " 'one',\n",
       " 'suck',\n",
       " 'truth',\n",
       " 'agre',\n",
       " 'fact',\n",
       " 'store',\n",
       " 'screen',\n",
       " 'monday',\n",
       " 'ur',\n",
       " 'art',\n",
       " 'easter',\n",
       " 'dear',\n",
       " 'friend',\n",
       " 'face',\n",
       " 'email',\n",
       " 'seem',\n",
       " 'pie',\n",
       " 'wife',\n",
       " 'ive',\n",
       " 'day',\n",
       " 'button',\n",
       " 'back',\n",
       " 'broke',\n",
       " 'hit',\n",
       " 'goe',\n",
       " 'complet',\n",
       " 'black',\n",
       " 'keep',\n",
       " 'get',\n",
       " 'text',\n",
       " 'cant',\n",
       " 'check',\n",
       " 'wallpap',\n",
       " 'wall',\n",
       " 'galaxi',\n",
       " 'samsung',\n",
       " 'patent',\n",
       " 'million',\n",
       " 'parti',\n",
       " 'mess',\n",
       " 'havent',\n",
       " 'done',\n",
       " 'noth',\n",
       " 'touch',\n",
       " 'lose',\n",
       " 'pic',\n",
       " 'kill',\n",
       " 'someon',\n",
       " 'hateappl',\n",
       " 'flower',\n",
       " 'green',\n",
       " 'must',\n",
       " 'watch',\n",
       " 'youtub',\n",
       " 'subscrib',\n",
       " 'daili',\n",
       " 'vlog',\n",
       " 'twitch',\n",
       " 'game',\n",
       " 'ps',\n",
       " 'xbox',\n",
       " 'io',\n",
       " 'live',\n",
       " 'laugh',\n",
       " 'life',\n",
       " 'food',\n",
       " 'instago',\n",
       " 'instahub',\n",
       " 'instagram…',\n",
       " 'friendship',\n",
       " 'dog',\n",
       " 'famili',\n",
       " 'goal',\n",
       " 'bestfriend',\n",
       " 'america',\n",
       " 'taken',\n",
       " 'sunset',\n",
       " 'sky',\n",
       " 'sister',\n",
       " 'bought',\n",
       " 'earli',\n",
       " 'bday',\n",
       " 'gift',\n",
       " 'receiv',\n",
       " 'note',\n",
       " 'mani',\n",
       " 'market',\n",
       " 'delet',\n",
       " 'song',\n",
       " 'itun',\n",
       " 'freak',\n",
       " 'window',\n",
       " 'advanc',\n",
       " 'custom',\n",
       " 'stand',\n",
       " 'bad',\n",
       " 'cheap',\n",
       " 'tech',\n",
       " 'bull',\n",
       " 'smile',\n",
       " 'creat',\n",
       " 'let',\n",
       " 'sunday',\n",
       " 'alway',\n",
       " 'eye',\n",
       " 'ootd',\n",
       " 'fashion',\n",
       " 'blackandwhit',\n",
       " 'film',\n",
       " 'set',\n",
       " 'video',\n",
       " 'produc',\n",
       " 'follow',\n",
       " 'movi',\n",
       " 'act',\n",
       " 'pink',\n",
       " 'sweet',\n",
       " 'sexi',\n",
       " 'ladi',\n",
       " 'week',\n",
       " 'end',\n",
       " 'iphoneplu',\n",
       " 'moment',\n",
       " 'see',\n",
       " 'differ',\n",
       " 'photographi',\n",
       " 'natur',\n",
       " 'landscap',\n",
       " 'view',\n",
       " 'tree',\n",
       " 'travel',\n",
       " 'googl',\n",
       " 'cut',\n",
       " 'program',\n",
       " 'look',\n",
       " 'got',\n",
       " 'christma',\n",
       " 'girl',\n",
       " 'instacool',\n",
       " 'free',\n",
       " 'appstor',\n",
       " 'joy',\n",
       " 'peac',\n",
       " 'reflect',\n",
       " 'rememb',\n",
       " 'cloud',\n",
       " 'gr',\n",
       " 'iphone…',\n",
       " 'babi',\n",
       " 'pet',\n",
       " 'news',\n",
       " 'fail',\n",
       " 'funni',\n",
       " 'hate',\n",
       " 'tablet',\n",
       " 'person',\n",
       " 'use',\n",
       " 'fan',\n",
       " 'think',\n",
       " 'product',\n",
       " 'friday',\n",
       " 'call',\n",
       " 'blackfriday',\n",
       " 'holiday',\n",
       " 'newyork',\n",
       " 'busi',\n",
       " 'money',\n",
       " 'birthday',\n",
       " 'tv',\n",
       " 'comput',\n",
       " 'school',\n",
       " 'serious',\n",
       " 'month',\n",
       " 'good',\n",
       " 'job',\n",
       " 'actual',\n",
       " '£',\n",
       " 'replac',\n",
       " 'that',\n",
       " 'still',\n",
       " 'rt',\n",
       " 'droid',\n",
       " 'cool',\n",
       " 'pictur',\n",
       " 'l',\n",
       " 'run',\n",
       " 'beach',\n",
       " 'sport',\n",
       " 'bit',\n",
       " 'hashtag',\n",
       " 'yet',\n",
       " 'arriv',\n",
       " 'gain',\n",
       " 'everyon',\n",
       " 'sougofollow',\n",
       " 'ff',\n",
       " 'iphoneographi',\n",
       " 'iphonephotographi',\n",
       " 'mobil',\n",
       " 'bright',\n",
       " 'user',\n",
       " 'date',\n",
       " 'less',\n",
       " 'random',\n",
       " 'instamood',\n",
       " 'wine',\n",
       " 'creativ',\n",
       " 'hot',\n",
       " 'icon',\n",
       " 'origin',\n",
       " 'pop',\n",
       " 'red',\n",
       " 'rock',\n",
       " 'soul',\n",
       " 'singer',\n",
       " 'univers',\n",
       " 'wed',\n",
       " 'thought',\n",
       " 'id',\n",
       " 'lost',\n",
       " 'ipadmini',\n",
       " 'feel',\n",
       " 'broken',\n",
       " 'light',\n",
       " 'pleas',\n",
       " 'indonesia',\n",
       " 'gold',\n",
       " 'potd',\n",
       " 'reset',\n",
       " 'sorri',\n",
       " 'white',\n",
       " 'tea',\n",
       " 'chill',\n",
       " 'cover',\n",
       " 'g',\n",
       " 'came',\n",
       " 'magic',\n",
       " 'come',\n",
       " 'followsunday',\n",
       " 'followback',\n",
       " 'teamfollowback',\n",
       " 'retweet',\n",
       " 'ya',\n",
       " 'thing',\n",
       " 'i’m',\n",
       " 'it’',\n",
       " 'alreadi',\n",
       " 'problem',\n",
       " 'issu',\n",
       " 'abl',\n",
       " 'sonya',\n",
       " 'shoot',\n",
       " 'put',\n",
       " 'price',\n",
       " 'devic',\n",
       " 'win',\n",
       " 'box',\n",
       " 'memori',\n",
       " 'brother',\n",
       " '–',\n",
       " 'oh',\n",
       " 'lip',\n",
       " 'enjoy',\n",
       " 'playstat',\n",
       " 'gamer',\n",
       " 'someth',\n",
       " 'wrong',\n",
       " 'right',\n",
       " 'today',\n",
       " 'earphon',\n",
       " 'lifestyl',\n",
       " 'fuckyou',\n",
       " 'never',\n",
       " 'bug',\n",
       " 'littl',\n",
       " 'qualiti',\n",
       " 'girlfriend',\n",
       " 'card',\n",
       " 'z',\n",
       " 'present',\n",
       " 'mom',\n",
       " 'macbookpro',\n",
       " 'macbook',\n",
       " 'quot',\n",
       " 'word',\n",
       " 'tweetgram',\n",
       " 'great',\n",
       " 'repair',\n",
       " 'hour',\n",
       " 'everyth',\n",
       " 'mode',\n",
       " 'usa',\n",
       " 'compani',\n",
       " 'model',\n",
       " 'cd',\n",
       " 'featur',\n",
       " 'didnt',\n",
       " 'coffe',\n",
       " 'effect',\n",
       " 'spring',\n",
       " 'galaxynot',\n",
       " 'special',\n",
       " 'valentin',\n",
       " 'nowplay',\n",
       " 'daughter',\n",
       " 'poem',\n",
       " 'car',\n",
       " 'sign',\n",
       " 'lunch',\n",
       " 'park',\n",
       " 'banana',\n",
       " 'autumn',\n",
       " 'spend',\n",
       " 'much',\n",
       " 'book',\n",
       " 'say',\n",
       " 'u',\n",
       " 'took',\n",
       " 'download',\n",
       " 'ad',\n",
       " 'twitter',\n",
       " 'educ',\n",
       " 'n',\n",
       " 'miss',\n",
       " 'last',\n",
       " 'min',\n",
       " 'tmobil',\n",
       " 'rid',\n",
       " 'absolut',\n",
       " 'annoy',\n",
       " 'level',\n",
       " 'buy',\n",
       " 'full',\n",
       " 'version',\n",
       " 'import',\n",
       " 'mood',\n",
       " 'blog',\n",
       " 'style',\n",
       " 'bestoftheday',\n",
       " 'pretti',\n",
       " 'babe',\n",
       " 'send',\n",
       " 'turn',\n",
       " 'imessag',\n",
       " 'sleep',\n",
       " 'popular',\n",
       " 'tweet',\n",
       " 'shotoniphon',\n",
       " 'photograph',\n",
       " 'sync',\n",
       " 'second',\n",
       " 'fml',\n",
       " 'candi',\n",
       " 'nice',\n",
       " 'wait',\n",
       " 'hand',\n",
       " 'gb',\n",
       " 'first',\n",
       " 'bar',\n",
       " 'key',\n",
       " 'long',\n",
       " 'cold',\n",
       " 'boot',\n",
       " 'siri',\n",
       " 'doesnt',\n",
       " 'liter',\n",
       " 'cri',\n",
       " 'contact',\n",
       " 'wonder',\n",
       " 'avail',\n",
       " 'b',\n",
       " 'laptop',\n",
       " 'vaio',\n",
       " 'blackberri',\n",
       " 'best',\n",
       " 'fruit',\n",
       " 'fall',\n",
       " 'soon',\n",
       " 'yum',\n",
       " 'mac',\n",
       " 'display',\n",
       " 'told',\n",
       " 'stop',\n",
       " 'p',\n",
       " 'three',\n",
       " 'ship',\n",
       " 'gear',\n",
       " 'well',\n",
       " 'past',\n",
       " 'singl',\n",
       " 'capetownsup',\n",
       " 'sup',\n",
       " 'surf',\n",
       " 'capetown',\n",
       " 'pro',\n",
       " 'half',\n",
       " 'stuff',\n",
       " 'excit',\n",
       " 'open',\n",
       " 'mine',\n",
       " 'piss',\n",
       " 'offici',\n",
       " 'keyboard',\n",
       " 'okay',\n",
       " 'though',\n",
       " 'enough',\n",
       " 'simpl',\n",
       " 'th',\n",
       " 'refus',\n",
       " 'night',\n",
       " 'son',\n",
       " 'instagood…',\n",
       " 'jj',\n",
       " 'makeup',\n",
       " 'valentinesday',\n",
       " 'februari',\n",
       " 'portrait',\n",
       " 'shot',\n",
       " 'sonyalpha',\n",
       " 'mm',\n",
       " 'password',\n",
       " 'zoom',\n",
       " 'stevejob',\n",
       " 'yall',\n",
       " 'addict',\n",
       " 'prophet',\n",
       " 'husband',\n",
       " 'kindl',\n",
       " 'a…',\n",
       " 'upgrad',\n",
       " 'help',\n",
       " 'children',\n",
       " 'there',\n",
       " 'least',\n",
       " 'tab',\n",
       " 'real',\n",
       " 'visit',\n",
       " 'hi',\n",
       " 'world',\n",
       " 'old',\n",
       " 'followm',\n",
       " 'likelik',\n",
       " 'samsung…',\n",
       " 'swag',\n",
       " 'cat',\n",
       " 'edit',\n",
       " 'sick',\n",
       " 'paint',\n",
       " 'bullshit',\n",
       " 'may',\n",
       " 'perfect',\n",
       " 'instaphoto',\n",
       " 'welcom',\n",
       " 'draw',\n",
       " 'os',\n",
       " 'throw',\n",
       " 'fast',\n",
       " 'w',\n",
       " 'take',\n",
       " 'two',\n",
       " 'next',\n",
       " 'offer',\n",
       " 'middl',\n",
       " 'access',\n",
       " 'account',\n",
       " 'find',\n",
       " 'citi',\n",
       " 'stori',\n",
       " 'destini',\n",
       " 'awesom',\n",
       " 'accessori',\n",
       " 'info',\n",
       " 'goodnight',\n",
       " 'dream',\n",
       " 'hope',\n",
       " 'uae',\n",
       " 'lucki',\n",
       " 'deal',\n",
       " 'passion',\n",
       " 'read',\n",
       " 'edm',\n",
       " 'whole',\n",
       " 'playlist',\n",
       " 'god',\n",
       " 'nx',\n",
       " 'cuti',\n",
       " 'high',\n",
       " 'usb',\n",
       " 'geek',\n",
       " 'bot',\n",
       " 'gadget',\n",
       " 'power',\n",
       " 'pc',\n",
       " 'sprint',\n",
       " 'pick',\n",
       " 'wish',\n",
       " 'minut',\n",
       " 'count',\n",
       " 'tl',\n",
       " 'drive',\n",
       " 'nyc',\n",
       " 'gay',\n",
       " 'readi',\n",
       " 'cellphon',\n",
       " 'space',\n",
       " 'ny',\n",
       " 'tattoo',\n",
       " 'total',\n",
       " 'ye',\n",
       " 'via',\n",
       " 'air',\n",
       " 'instal',\n",
       " 'fit',\n",
       " 'plu',\n",
       " 'sim',\n",
       " 'florida',\n",
       " 'sale',\n",
       " 'nokia',\n",
       " 'motorola',\n",
       " 'lg',\n",
       " 'without',\n",
       " 'hold',\n",
       " 'speed',\n",
       " 'unitedst',\n",
       " 'guitarplay',\n",
       " 'smart',\n",
       " 'crap',\n",
       " 'calendar',\n",
       " 'event',\n",
       " 'icloud',\n",
       " 'angri',\n",
       " 'bird',\n",
       " 'freez',\n",
       " 'ever',\n",
       " 'sinc',\n",
       " 'team',\n",
       " 'tri',\n",
       " 'convers',\n",
       " 'wouldnt',\n",
       " 'small',\n",
       " 'blue',\n",
       " '—',\n",
       " 'steemit',\n",
       " 'sonylen',\n",
       " 'len',\n",
       " 'sonyphotographi',\n",
       " 'imag',\n",
       " 'photofe',\n",
       " 'feed',\n",
       " 'yeah',\n",
       " 'gorgeou',\n",
       " 'ig',\n",
       " 'orang',\n",
       " 'haha',\n",
       " 'dress',\n",
       " 'lock',\n",
       " 'speaker',\n",
       " 'reallyr',\n",
       " 'colleg',\n",
       " 'true',\n",
       " 'chocol',\n",
       " 'shit',\n",
       " 'ador',\n",
       " 'nofilt',\n",
       " 'drink',\n",
       " 'purpl',\n",
       " 'tasti',\n",
       " 'garden',\n",
       " 'андроид',\n",
       " 'guy',\n",
       " 'bestpric',\n",
       " 'jun',\n",
       " 'unlock',\n",
       " 'caus',\n",
       " 'manag',\n",
       " 'mommi',\n",
       " 'bless',\n",
       " 'could',\n",
       " 'chines',\n",
       " 'close',\n",
       " 'system',\n",
       " 'morn',\n",
       " 'nike',\n",
       " 'goodmorn',\n",
       " 'r',\n",
       " 'imac',\n",
       " 'sell',\n",
       " 'mad',\n",
       " 'purpos',\n",
       " 'pari',\n",
       " 'answer',\n",
       " 'roll',\n",
       " 'verizon',\n",
       " 'headphon',\n",
       " 'show',\n",
       " 'sound',\n",
       " 'itali',\n",
       " 'socialmedia',\n",
       " 'learn',\n",
       " 'smoke',\n",
       " 'tomorrow',\n",
       " 'here',\n",
       " 'delici',\n",
       " 'far',\n",
       " 'away',\n",
       " 'ebay',\n",
       " 'fix',\n",
       " 'easi',\n",
       " 'silver',\n",
       " 'oneplu',\n",
       " 'provid',\n",
       " 'experi',\n",
       " 'flag',\n",
       " 'emoji',\n",
       " 'chang',\n",
       " 'al',\n",
       " 'april',\n",
       " 'man',\n",
       " 'wanna',\n",
       " 'your',\n",
       " 'tell',\n",
       " 'kid',\n",
       " 'backup',\n",
       " 'peopl',\n",
       " 'dad',\n",
       " 'anyon',\n",
       " 'els',\n",
       " 'block',\n",
       " 'number',\n",
       " 'possibl',\n",
       " 'frustrat',\n",
       " 'file',\n",
       " 'bro',\n",
       " 'rhyme',\n",
       " 'thx',\n",
       " 'jailbreak',\n",
       " 'sit',\n",
       " 'restor',\n",
       " 'stock',\n",
       " 'mother',\n",
       " 'igdaili',\n",
       " 'marri',\n",
       " 'healthi',\n",
       " 'ugh',\n",
       " 'x',\n",
       " 'bc',\n",
       " 'gratitud',\n",
       " 'edg',\n",
       " 'unbox',\n",
       " 'wow',\n",
       " 'sonyphoto',\n",
       " 'top',\n",
       " 'phonecas',\n",
       " 'june',\n",
       " 'sad',\n",
       " 'yellow',\n",
       " 'woman',\n",
       " 'might',\n",
       " 'india',\n",
       " 'canada',\n",
       " 'europ',\n",
       " 'super',\n",
       " 'care',\n",
       " 'map',\n",
       " 'applestor',\n",
       " 'hello',\n",
       " 'order',\n",
       " 'sent',\n",
       " 'went',\n",
       " 'wasnt',\n",
       " 'insta',\n",
       " 'newphon',\n",
       " 'fish',\n",
       " 'london',\n",
       " 'vsco',\n",
       " 'track',\n",
       " 'catch',\n",
       " 'finger',\n",
       " 'anymor',\n",
       " 'captur',\n",
       " 'futur',\n",
       " 'cell',\n",
       " 'instalik',\n",
       " 'sony…',\n",
       " 'march',\n",
       " 'proud',\n",
       " 'hateiphon',\n",
       " 'sticker',\n",
       " 'vscocam',\n",
       " 'bring',\n",
       " 'better',\n",
       " 'kiss',\n",
       " 'heart',\n",
       " 'fresh',\n",
       " 'librari',\n",
       " 'inspir',\n",
       " 'inlov',\n",
       " 'luxuri',\n",
       " 'exquisit',\n",
       " 'squishi',\n",
       " 'charm',\n",
       " 'strap',\n",
       " 'toy',\n",
       " 'decor',\n",
       " 'cake',\n",
       " 'theyr',\n",
       " 'lte',\n",
       " 'facebook',\n",
       " 'wipe',\n",
       " 'human',\n",
       " 'bff',\n",
       " 'instalov',\n",
       " 'storag',\n",
       " 'wake',\n",
       " 'shitti',\n",
       " 'wast',\n",
       " 'switch',\n",
       " 'blond',\n",
       " 'load',\n",
       " 'sue',\n",
       " 'teamandroid',\n",
       " 'da',\n",
       " 'ly',\n",
       " 'lion',\n",
       " 'steve',\n",
       " 'also',\n",
       " 'ill',\n",
       " 'osx',\n",
       " 'photoshoot',\n",
       " 'coupl',\n",
       " 'favorit',\n",
       " 'forc',\n",
       " 'newtoy',\n",
       " 'nascar',\n",
       " 'tire',\n",
       " 'appar',\n",
       " 'ago',\n",
       " 'zeeland',\n",
       " 'appletv',\n",
       " 'ask',\n",
       " 'said',\n",
       " 'meet',\n",
       " 'electron',\n",
       " 'gener',\n",
       " 'link',\n",
       " 'code',\n",
       " 'tshirt',\n",
       " 'tbt',\n",
       " 'beat',\n",
       " 'screw',\n",
       " 'videogam',\n",
       " 'motiv',\n",
       " 'sunni',\n",
       " 'nikon',\n",
       " 'useless',\n",
       " 'boyfriend',\n",
       " 'weekend',\n",
       " 'cook',\n",
       " 'japan',\n",
       " 'starbuck',\n",
       " 'almost',\n",
       " 'cousin',\n",
       " 'tag',\n",
       " 'applesuck',\n",
       " 'bye',\n",
       " 'search',\n",
       " 'dinner',\n",
       " 'discount',\n",
       " 'cheer',\n",
       " 'bluetooth',\n",
       " 'wireless',\n",
       " 'data',\n",
       " 'spent',\n",
       " 'puppi',\n",
       " 'vacat',\n",
       " 'anim',\n",
       " 'notebook',\n",
       " 'redbubbl',\n",
       " 'iphonecas',\n",
       " 'king',\n",
       " 'yo',\n",
       " 'left',\n",
       " 'mean',\n",
       " 'what',\n",
       " 'yesterday',\n",
       " 'mayb',\n",
       " 'trump',\n",
       " 'california',\n",
       " 'repost',\n",
       " 'samsungmobil',\n",
       " 'gone',\n",
       " 'social',\n",
       " 'break',\n",
       " 'trip',\n",
       " 'slow',\n",
       " 'rain',\n",
       " 'wtf',\n",
       " 'anyth',\n",
       " 'cuz',\n",
       " 'hd',\n",
       " 'microsoft',\n",
       " 'applewatch',\n",
       " 'duo',\n",
       " 'dj',\n",
       " 'save',\n",
       " 'mr',\n",
       " 'releas',\n",
       " 'gonna',\n",
       " 'entir',\n",
       " 'part',\n",
       " 'die',\n",
       " 'k',\n",
       " 'tip',\n",
       " 'gotta',\n",
       " 'eat',\n",
       " 'walk',\n",
       " 'side',\n",
       " 'explor',\n",
       " 'hous',\n",
       " 'room',\n",
       " 'rs',\n",
       " 'piano',\n",
       " 'v',\n",
       " 'thankyou',\n",
       " 'happen',\n",
       " 'page',\n",
       " 'surpris',\n",
       " 'deliveri',\n",
       " 'messag',\n",
       " 'vocat',\n",
       " 'thailand',\n",
       " 'khaoko',\n",
       " 'ilc',\n",
       " 'snapspeed…',\n",
       " 'merri',\n",
       " 'htc',\n",
       " 'onlin',\n",
       " 'psn',\n",
       " 'flash',\n",
       " '•',\n",
       " 'treat',\n",
       " 'tagsforlik',\n",
       " 'cost',\n",
       " 'crack',\n",
       " 'collect',\n",
       " 'stuck',\n",
       " 'planet',\n",
       " 'men',\n",
       " 'followfollow',\n",
       " 'blow',\n",
       " 'latest',\n",
       " 'consol',\n",
       " 'blogger',\n",
       " 'protect',\n",
       " 'skin',\n",
       " 'choos',\n",
       " 'uniqu',\n",
       " 'piec',\n",
       " 'lot',\n",
       " 'remov',\n",
       " 'secur',\n",
       " 'princess',\n",
       " 'mind',\n",
       " 'becom',\n",
       " 'miami',\n",
       " 'nail',\n",
       " 'rip',\n",
       " 'figur',\n",
       " 'network',\n",
       " 'bitch',\n",
       " 'tuesday',\n",
       " 'f',\n",
       " 'idea',\n",
       " 'fb',\n",
       " 'omg',\n",
       " 'innov',\n",
       " 'player',\n",
       " 'forev',\n",
       " 'satisfi',\n",
       " 'tonight',\n",
       " 'artist',\n",
       " 'sing',\n",
       " 'click',\n",
       " 'hair',\n",
       " 'ride',\n",
       " 'leav',\n",
       " 'colour',\n",
       " 'togeth',\n",
       " 'asshol',\n",
       " ...]"
      ]
     },
     "execution_count": 25,
     "metadata": {},
     "output_type": "execute_result"
    }
   ],
   "source": [
    "tokens = [key for key in vocab if vocab[key] > 10]\n",
    "tokens"
   ]
  },
  {
   "cell_type": "code",
   "execution_count": 26,
   "id": "9ce847c6",
   "metadata": {},
   "outputs": [
    {
     "data": {
      "text/plain": [
       "1145"
      ]
     },
     "execution_count": 26,
     "metadata": {},
     "output_type": "execute_result"
    }
   ],
   "source": [
    "len(tokens)"
   ]
  },
  {
   "cell_type": "code",
   "execution_count": 27,
   "id": "cd4ece5b",
   "metadata": {},
   "outputs": [],
   "source": [
    "def save_vocabulary(lines, filename):\n",
    "    data = '\\n'.join(lines)\n",
    "    file = open(filename, 'w', encoding=\"utf-8\")\n",
    "    file.write(data)\n",
    "    file.close()\n",
    "\n",
    "save_vocabulary(tokens, '../static/model/vocabulary.txt')"
   ]
  },
  {
   "cell_type": "markdown",
   "id": "fa263136",
   "metadata": {},
   "source": [
    "# Divide Dataset"
   ]
  },
  {
   "cell_type": "code",
   "execution_count": 28,
   "id": "7d646453",
   "metadata": {},
   "outputs": [],
   "source": [
    "X = data['tweet']\n",
    "y = data['label']"
   ]
  },
  {
   "cell_type": "code",
   "execution_count": 29,
   "id": "1dac8161",
   "metadata": {},
   "outputs": [
    {
     "name": "stdout",
     "output_type": "stream",
     "text": [
      "Requirement already satisfied: scikit-learn in c:\\users\\user\\anaconda3\\lib\\site-packages (1.2.0)\n",
      "Requirement already satisfied: scipy>=1.3.2 in c:\\users\\user\\anaconda3\\lib\\site-packages (from scikit-learn) (1.7.1)\n",
      "Requirement already satisfied: threadpoolctl>=2.0.0 in c:\\users\\user\\anaconda3\\lib\\site-packages (from scikit-learn) (3.5.0)\n",
      "Requirement already satisfied: joblib>=1.1.1 in c:\\users\\user\\anaconda3\\lib\\site-packages (from scikit-learn) (1.4.2)\n",
      "Requirement already satisfied: numpy>=1.17.3 in c:\\users\\user\\anaconda3\\lib\\site-packages (from scikit-learn) (1.20.3)\n"
     ]
    }
   ],
   "source": [
    "!pip install scikit-learn"
   ]
  },
  {
   "cell_type": "code",
   "execution_count": 30,
   "id": "eaa6d18e",
   "metadata": {},
   "outputs": [
    {
     "data": {
      "text/plain": [
       "1232    top gearapp avail us itun store need us credit...\n",
       "3695    like klip goodnight klip sleep rest tuesday be...\n",
       "2808                         im alway hit tri move screen\n",
       "5636            good news phone fix bad news lost everyth\n",
       "5728    lilithpgh apolog inconveni hear score new ipho...\n",
       "                              ...                        \n",
       "2632    fuck appl youv made phone break sneez liter st...\n",
       "5631    thisispoc ugh im gonna give get new ipod scree...\n",
       "7890    okay upgrad phone iphon doesnt headphoneaux ja...\n",
       "4217    hi billgat hate appl like birthday get rt plea...\n",
       "5051    love whole iphon exodu go atm android well tru...\n",
       "Name: tweet, Length: 6336, dtype: object"
      ]
     },
     "execution_count": 30,
     "metadata": {},
     "output_type": "execute_result"
    }
   ],
   "source": [
    "from sklearn.model_selection import train_test_split\n",
    "X_train, X_test, y_train, y_test = train_test_split(X, y, test_size=0.2)\n",
    "X_train"
   ]
  },
  {
   "cell_type": "code",
   "execution_count": 31,
   "id": "e7fc2f6e",
   "metadata": {},
   "outputs": [
    {
     "data": {
      "text/plain": [
       "551     sir pleas visit fiverr profil help profil than...\n",
       "2864    jake new ps soni ps playstat consol new yay ch...\n",
       "5400    need itun altern mainli music transfer purpos ...\n",
       "5162    bansamsung grenad requir person samsungwow uft...\n",
       "1731    sunday breakfast red berri muesli appl pineapp...\n",
       "                              ...                        \n",
       "192     birthday present came advanc thank much appl i...\n",
       "5349    home kayrasu black blackandwhit iphon iphoneon...\n",
       "3292    love combo instap samsung nailart colorclub we...\n",
       "6296    rt alibak okay im go reestablish much love iph...\n",
       "103     photo day eri pa car sign ilovey blackandwhit ...\n",
       "Name: tweet, Length: 1584, dtype: object"
      ]
     },
     "execution_count": 31,
     "metadata": {},
     "output_type": "execute_result"
    }
   ],
   "source": [
    "X_test"
   ]
  },
  {
   "cell_type": "code",
   "execution_count": 32,
   "id": "0796420f",
   "metadata": {},
   "outputs": [
    {
     "data": {
      "text/plain": [
       "1232    0\n",
       "3695    0\n",
       "2808    1\n",
       "5636    1\n",
       "5728    0\n",
       "       ..\n",
       "2632    1\n",
       "5631    0\n",
       "7890    1\n",
       "4217    1\n",
       "5051    1\n",
       "Name: label, Length: 6336, dtype: int64"
      ]
     },
     "execution_count": 32,
     "metadata": {},
     "output_type": "execute_result"
    }
   ],
   "source": [
    "y_train"
   ]
  },
  {
   "cell_type": "code",
   "execution_count": 33,
   "id": "c3d0f58c",
   "metadata": {},
   "outputs": [
    {
     "data": {
      "text/plain": [
       "551     0\n",
       "2864    0\n",
       "5400    0\n",
       "5162    1\n",
       "1731    0\n",
       "       ..\n",
       "192     0\n",
       "5349    0\n",
       "3292    0\n",
       "6296    0\n",
       "103     0\n",
       "Name: label, Length: 1584, dtype: int64"
      ]
     },
     "execution_count": 33,
     "metadata": {},
     "output_type": "execute_result"
    }
   ],
   "source": [
    "y_test"
   ]
  },
  {
   "cell_type": "markdown",
   "id": "308c54df",
   "metadata": {},
   "source": [
    "# Vectorization"
   ]
  },
  {
   "cell_type": "code",
   "execution_count": 34,
   "id": "16ac8a50",
   "metadata": {},
   "outputs": [],
   "source": [
    "def vectorizer(ds, vocabulary):\n",
    "    vectorized_lst = []\n",
    "    \n",
    "    for sentence in ds:\n",
    "        sentence_lst = np.zeros(len(vocabulary))\n",
    "        \n",
    "        for i in range(len(vocabulary)):\n",
    "            if vocabulary[i] in sentence.split():\n",
    "                sentence_lst[i] = 1\n",
    "                \n",
    "        vectorized_lst.append(sentence_lst)\n",
    "        \n",
    "    vectorized_lst_new = np.asarray(vectorized_lst, dtype=np.float32)\n",
    "    \n",
    "    return vectorized_lst_new"
   ]
  },
  {
   "cell_type": "code",
   "execution_count": 35,
   "id": "5768e0f9",
   "metadata": {},
   "outputs": [],
   "source": [
    "vectorized_x_train = vectorizer(X_train, tokens)\n",
    "vectorized_x_test = vectorizer(X_test, tokens)"
   ]
  },
  {
   "cell_type": "code",
   "execution_count": 36,
   "id": "9d8728ea",
   "metadata": {},
   "outputs": [
    {
     "data": {
      "text/plain": [
       "array([[0., 0., 0., ..., 0., 0., 0.],\n",
       "       [0., 0., 0., ..., 0., 0., 0.],\n",
       "       [0., 0., 0., ..., 0., 0., 0.],\n",
       "       ...,\n",
       "       [0., 0., 0., ..., 0., 0., 0.],\n",
       "       [0., 0., 0., ..., 0., 0., 0.],\n",
       "       [0., 1., 0., ..., 0., 0., 0.]], dtype=float32)"
      ]
     },
     "execution_count": 36,
     "metadata": {},
     "output_type": "execute_result"
    }
   ],
   "source": [
    "vectorized_x_train"
   ]
  },
  {
   "cell_type": "code",
   "execution_count": 37,
   "id": "83f5fc3e",
   "metadata": {},
   "outputs": [
    {
     "data": {
      "text/plain": [
       "1232    0\n",
       "3695    0\n",
       "2808    1\n",
       "5636    1\n",
       "5728    0\n",
       "       ..\n",
       "2632    1\n",
       "5631    0\n",
       "7890    1\n",
       "4217    1\n",
       "5051    1\n",
       "Name: label, Length: 6336, dtype: int64"
      ]
     },
     "execution_count": 37,
     "metadata": {},
     "output_type": "execute_result"
    }
   ],
   "source": [
    "y_train"
   ]
  },
  {
   "cell_type": "code",
   "execution_count": 38,
   "id": "42ffeba0",
   "metadata": {},
   "outputs": [
    {
     "data": {
      "text/plain": [
       "array([[0., 1., 0., ..., 0., 0., 0.],\n",
       "       [0., 0., 0., ..., 0., 0., 0.],\n",
       "       [0., 0., 0., ..., 0., 0., 0.],\n",
       "       ...,\n",
       "       [0., 0., 0., ..., 0., 0., 0.],\n",
       "       [0., 0., 0., ..., 0., 0., 0.],\n",
       "       [0., 0., 0., ..., 0., 0., 0.]], dtype=float32)"
      ]
     },
     "execution_count": 38,
     "metadata": {},
     "output_type": "execute_result"
    }
   ],
   "source": [
    "vectorized_x_test"
   ]
  },
  {
   "cell_type": "code",
   "execution_count": 39,
   "id": "02d2e8bd",
   "metadata": {},
   "outputs": [
    {
     "data": {
      "text/plain": [
       "551     0\n",
       "2864    0\n",
       "5400    0\n",
       "5162    1\n",
       "1731    0\n",
       "       ..\n",
       "192     0\n",
       "5349    0\n",
       "3292    0\n",
       "6296    0\n",
       "103     0\n",
       "Name: label, Length: 1584, dtype: int64"
      ]
     },
     "execution_count": 39,
     "metadata": {},
     "output_type": "execute_result"
    }
   ],
   "source": [
    "y_test"
   ]
  },
  {
   "cell_type": "code",
   "execution_count": 40,
   "id": "d895f7db",
   "metadata": {},
   "outputs": [
    {
     "data": {
      "text/plain": [
       "0    4732\n",
       "1    1604\n",
       "Name: label, dtype: int64"
      ]
     },
     "execution_count": 40,
     "metadata": {},
     "output_type": "execute_result"
    }
   ],
   "source": [
    "y_train.value_counts()\n",
    "# this is an imbalanced dataset"
   ]
  },
  {
   "cell_type": "code",
   "execution_count": 41,
   "id": "afeb78ac",
   "metadata": {},
   "outputs": [
    {
     "data": {
      "image/png": "[encoded data removed]",
      "text/plain": [
       "<Figure size 432x288 with 1 Axes>"
      ]
     },
     "metadata": {},
     "output_type": "display_data"
    }
   ],
   "source": [
    "import matplotlib.pyplot as plt\n",
    "plt.pie(np.array([y_train.value_counts()[0], y_train.value_counts()[1]]), labels=['Positive', 'Negative'])\n",
    "plt.show()"
   ]
  },
  {
   "cell_type": "markdown",
   "id": "d1ce1502",
   "metadata": {},
   "source": [
    "## Handle imbalanced dataset"
   ]
  },
  {
   "cell_type": "code",
   "execution_count": 42,
   "id": "3577cfec",
   "metadata": {},
   "outputs": [
    {
     "name": "stdout",
     "output_type": "stream",
     "text": [
      "Requirement already satisfied: imbalanced-learn in c:\\users\\user\\anaconda3\\lib\\site-packages (0.10.0)\n",
      "Requirement already satisfied: threadpoolctl>=2.0.0 in c:\\users\\user\\anaconda3\\lib\\site-packages (from imbalanced-learn) (3.5.0)\n",
      "Requirement already satisfied: joblib>=1.1.1 in c:\\users\\user\\anaconda3\\lib\\site-packages (from imbalanced-learn) (1.4.2)\n",
      "Requirement already satisfied: scipy>=1.3.2 in c:\\users\\user\\anaconda3\\lib\\site-packages (from imbalanced-learn) (1.7.1)\n",
      "Requirement already satisfied: scikit-learn>=1.0.2 in c:\\users\\user\\anaconda3\\lib\\site-packages (from imbalanced-learn) (1.2.0)\n",
      "Requirement already satisfied: numpy>=1.17.3 in c:\\users\\user\\anaconda3\\lib\\site-packages (from imbalanced-learn) (1.20.3)\n"
     ]
    }
   ],
   "source": [
    "!pip install imbalanced-learn"
   ]
  },
  {
   "cell_type": "code",
   "execution_count": 43,
   "id": "f6865345",
   "metadata": {},
   "outputs": [
    {
     "name": "stdout",
     "output_type": "stream",
     "text": [
      "(9464, 1145) (9464,)\n"
     ]
    }
   ],
   "source": [
    "from imblearn.over_sampling import SMOTE\n",
    "smt = SMOTE()\n",
    "vectorized_x_train_smt, y_train_smt = smt.fit_resample(vectorized_x_train, y_train)\n",
    "\n",
    "print(vectorized_x_train_smt.shape, y_train_smt.shape)"
   ]
  },
  {
   "cell_type": "code",
   "execution_count": 45,
   "id": "1910e810",
   "metadata": {},
   "outputs": [
    {
     "data": {
      "text/plain": [
       "0    4732\n",
       "1    4732\n",
       "Name: label, dtype: int64"
      ]
     },
     "execution_count": 45,
     "metadata": {},
     "output_type": "execute_result"
    }
   ],
   "source": [
    "y_train_smt.value_counts()"
   ]
  },
  {
   "cell_type": "code",
   "execution_count": 51,
   "id": "bf94c638",
   "metadata": {},
   "outputs": [
    {
     "data": {
      "image/png": "[encoded data removed]",
      "text/plain": [
       "<Figure size 432x288 with 1 Axes>"
      ]
     },
     "metadata": {},
     "output_type": "display_data"
    }
   ],
   "source": [
    "plt.pie(np.array([y_train_smt.value_counts()[0], y_train_smt.value_counts()[1]]), labels=['Positive', 'Negative'])\n",
    "plt.show()"
   ]
  },
  {
   "cell_type": "code",
   "execution_count": 53,
   "id": "e654d67a",
   "metadata": {},
   "outputs": [
    {
     "data": {
      "text/plain": [
       "array([[0.       , 0.       , 0.       , ..., 0.       , 0.       ,\n",
       "        0.       ],\n",
       "       [0.       , 0.       , 0.       , ..., 0.       , 0.       ,\n",
       "        0.       ],\n",
       "       [0.       , 0.       , 0.       , ..., 0.       , 0.       ,\n",
       "        0.       ],\n",
       "       ...,\n",
       "       [0.       , 0.       , 0.       , ..., 0.       , 0.       ,\n",
       "        0.       ],\n",
       "       [0.       , 0.       , 0.       , ..., 0.       , 0.       ,\n",
       "        0.       ],\n",
       "       [0.       , 0.       , 0.5224445, ..., 0.       , 0.       ,\n",
       "        0.       ]], dtype=float32)"
      ]
     },
     "execution_count": 53,
     "metadata": {},
     "output_type": "execute_result"
    }
   ],
   "source": [
    "vectorized_x_train_smt"
   ]
  },
  {
   "cell_type": "code",
   "execution_count": 54,
   "id": "008b47d9",
   "metadata": {},
   "outputs": [
    {
     "data": {
      "text/plain": [
       "0       0\n",
       "1       0\n",
       "2       1\n",
       "3       1\n",
       "4       0\n",
       "       ..\n",
       "9459    1\n",
       "9460    1\n",
       "9461    1\n",
       "9462    1\n",
       "9463    1\n",
       "Name: label, Length: 9464, dtype: int64"
      ]
     },
     "execution_count": 54,
     "metadata": {},
     "output_type": "execute_result"
    }
   ],
   "source": [
    "y_train_smt"
   ]
  },
  {
   "cell_type": "code",
   "execution_count": 56,
   "id": "5c2f1f4f",
   "metadata": {},
   "outputs": [
    {
     "data": {
      "text/plain": [
       "array([[0., 1., 0., ..., 0., 0., 0.],\n",
       "       [0., 0., 0., ..., 0., 0., 0.],\n",
       "       [0., 0., 0., ..., 0., 0., 0.],\n",
       "       ...,\n",
       "       [0., 0., 0., ..., 0., 0., 0.],\n",
       "       [0., 0., 0., ..., 0., 0., 0.],\n",
       "       [0., 0., 0., ..., 0., 0., 0.]], dtype=float32)"
      ]
     },
     "execution_count": 56,
     "metadata": {},
     "output_type": "execute_result"
    }
   ],
   "source": [
    "vectorized_x_test"
   ]
  },
  {
   "cell_type": "code",
   "execution_count": 57,
   "id": "6cfb4758",
   "metadata": {},
   "outputs": [
    {
     "data": {
      "text/plain": [
       "551     0\n",
       "2864    0\n",
       "5400    0\n",
       "5162    1\n",
       "1731    0\n",
       "       ..\n",
       "192     0\n",
       "5349    0\n",
       "3292    0\n",
       "6296    0\n",
       "103     0\n",
       "Name: label, Length: 1584, dtype: int64"
      ]
     },
     "execution_count": 57,
     "metadata": {},
     "output_type": "execute_result"
    }
   ],
   "source": [
    "y_test"
   ]
  },
  {
   "cell_type": "markdown",
   "id": "44e3e723",
   "metadata": {},
   "source": [
    "# Model Training and Evaluation"
   ]
  },
  {
   "cell_type": "code",
   "execution_count": 58,
   "id": "f4d3d14b",
   "metadata": {},
   "outputs": [],
   "source": [
    "from sklearn.linear_model import LogisticRegression\n",
    "from sklearn.naive_bayes import MultinomialNB\n",
    "from sklearn.tree import DecisionTreeClassifier\n",
    "from sklearn.ensemble import RandomForestClassifier\n",
    "from sklearn.svm import SVC"
   ]
  },
  {
   "cell_type": "code",
   "execution_count": 59,
   "id": "3b383af9",
   "metadata": {},
   "outputs": [],
   "source": [
    "from sklearn.metrics import accuracy_score, f1_score, precision_score, recall_score\n",
    "\n",
    "def training_scores(y_act, y_pred):\n",
    "    acc = round(accuracy_score(y_act, y_pred), 3)\n",
    "    pr = round(precision_score(y_act, y_pred), 3)\n",
    "    rec = round(recall_score(y_act, y_pred), 3)\n",
    "    f1 = round(f1_score(y_act, y_pred), 3)\n",
    "    print(f'Training Scores:\\n\\tAccuracy = {acc}\\n\\tPrecision = {pr}\\n\\tRecall = {rec}\\n\\tF1-Score = {f1}')\n",
    "    \n",
    "def validation_scores(y_act, y_pred):\n",
    "    acc = round(accuracy_score(y_act, y_pred), 3)\n",
    "    pr = round(precision_score(y_act, y_pred), 3)\n",
    "    rec = round(recall_score(y_act, y_pred), 3)\n",
    "    f1 = round(f1_score(y_act, y_pred), 3)\n",
    "    print(f'Testing Scores:\\n\\tAccuracy = {acc}\\n\\tPrecision = {pr}\\n\\tRecall = {rec}\\n\\tF1-Score = {f1}')"
   ]
  },
  {
   "cell_type": "markdown",
   "id": "c6a8d7fa",
   "metadata": {},
   "source": [
    "#### Logistic Regression"
   ]
  },
  {
   "cell_type": "code",
   "execution_count": 64,
   "id": "36c288c1",
   "metadata": {},
   "outputs": [],
   "source": [
    "lr = LogisticRegression()\n",
    "lr.fit(vectorized_x_train_smt,y_train_smt)\n",
    "y_train_predict = lr.predict(vectorized_x_train_smt)"
   ]
  },
  {
   "cell_type": "code",
   "execution_count": 65,
   "id": "eb9d9492",
   "metadata": {},
   "outputs": [
    {
     "data": {
      "text/plain": [
       "array([1, 0, 1, ..., 1, 1, 1], dtype=int64)"
      ]
     },
     "execution_count": 65,
     "metadata": {},
     "output_type": "execute_result"
    }
   ],
   "source": [
    "y_train_predict #predicted values"
   ]
  },
  {
   "cell_type": "code",
   "execution_count": 66,
   "id": "c43bb961",
   "metadata": {},
   "outputs": [
    {
     "data": {
      "text/plain": [
       "0       0\n",
       "1       0\n",
       "2       1\n",
       "3       1\n",
       "4       0\n",
       "       ..\n",
       "9459    1\n",
       "9460    1\n",
       "9461    1\n",
       "9462    1\n",
       "9463    1\n",
       "Name: label, Length: 9464, dtype: int64"
      ]
     },
     "execution_count": 66,
     "metadata": {},
     "output_type": "execute_result"
    }
   ],
   "source": [
    "y_train_smt #actual values"
   ]
  },
  {
   "cell_type": "code",
   "execution_count": 67,
   "id": "667bc13f",
   "metadata": {},
   "outputs": [
    {
     "name": "stdout",
     "output_type": "stream",
     "text": [
      "Training Scores:\n",
      "\tAccuracy = 0.939\n",
      "\tPrecision = 0.915\n",
      "\tRecall = 0.968\n",
      "\tF1-Score = 0.941\n"
     ]
    }
   ],
   "source": [
    "training_scores(y_train_smt, y_train_predict)"
   ]
  },
  {
   "cell_type": "code",
   "execution_count": 71,
   "id": "228dbc30",
   "metadata": {},
   "outputs": [
    {
     "data": {
      "text/plain": [
       "array([0, 0, 0, ..., 0, 0, 0], dtype=int64)"
      ]
     },
     "execution_count": 71,
     "metadata": {},
     "output_type": "execute_result"
    }
   ],
   "source": [
    "y_test_predict = lr.predict(vectorized_x_test)\n",
    "y_test_predict"
   ]
  },
  {
   "cell_type": "code",
   "execution_count": 74,
   "id": "46053c63",
   "metadata": {},
   "outputs": [
    {
     "name": "stdout",
     "output_type": "stream",
     "text": [
      "Testing Scores:\n",
      "\tAccuracy = 0.88\n",
      "\tPrecision = 0.844\n",
      "\tRecall = 0.742\n",
      "\tF1-Score = 0.789\n"
     ]
    }
   ],
   "source": [
    "validation_scores(y_test_predict, y_test)\n",
    "# training > testing --> slightly overfit"
   ]
  },
  {
   "cell_type": "markdown",
   "id": "76f461dc",
   "metadata": {},
   "source": [
    "#### Naive Bayes"
   ]
  },
  {
   "cell_type": "code",
   "execution_count": 82,
   "id": "20be1df2",
   "metadata": {},
   "outputs": [],
   "source": [
    "mnb = MultinomialNB()\n",
    "mnb.fit(vectorized_x_train_smt,y_train_smt)\n",
    "y_train_predict = mnb.predict(vectorized_x_train_smt)"
   ]
  },
  {
   "cell_type": "code",
   "execution_count": 83,
   "id": "edf989ea",
   "metadata": {},
   "outputs": [
    {
     "data": {
      "text/plain": [
       "array([1, 0, 1, ..., 1, 1, 1], dtype=int64)"
      ]
     },
     "execution_count": 83,
     "metadata": {},
     "output_type": "execute_result"
    }
   ],
   "source": [
    "y_train_predict"
   ]
  },
  {
   "cell_type": "code",
   "execution_count": 84,
   "id": "8bbe4850",
   "metadata": {},
   "outputs": [
    {
     "name": "stdout",
     "output_type": "stream",
     "text": [
      "Training Scores:\n",
      "\tAccuracy = 0.907\n",
      "\tPrecision = 0.872\n",
      "\tRecall = 0.953\n",
      "\tF1-Score = 0.911\n"
     ]
    }
   ],
   "source": [
    "training_scores(y_train_smt, y_train_predict)"
   ]
  },
  {
   "cell_type": "code",
   "execution_count": 85,
   "id": "5bd6e1f8",
   "metadata": {},
   "outputs": [
    {
     "data": {
      "text/plain": [
       "array([0, 0, 1, ..., 0, 0, 0], dtype=int64)"
      ]
     },
     "execution_count": 85,
     "metadata": {},
     "output_type": "execute_result"
    }
   ],
   "source": [
    "y_test_predict = mnb.predict(vectorized_x_test)\n",
    "y_test_predict"
   ]
  },
  {
   "cell_type": "code",
   "execution_count": 86,
   "id": "087b8ab4",
   "metadata": {},
   "outputs": [
    {
     "name": "stdout",
     "output_type": "stream",
     "text": [
      "Testing Scores:\n",
      "\tAccuracy = 0.871\n",
      "\tPrecision = 0.905\n",
      "\tRecall = 0.7\n",
      "\tF1-Score = 0.789\n"
     ]
    }
   ],
   "source": [
    "validation_scores(y_test_predict, y_test)"
   ]
  },
  {
   "cell_type": "markdown",
   "id": "3511b00b",
   "metadata": {},
   "source": [
    "#### Decision Tree"
   ]
  },
  {
   "cell_type": "code",
   "execution_count": 97,
   "id": "67b5be12",
   "metadata": {},
   "outputs": [],
   "source": [
    "dtc = DecisionTreeClassifier()\n",
    "dtc.fit(vectorized_x_train_smt,y_train_smt)\n",
    "y_train_predict = dtc.predict(vectorized_x_train_smt)"
   ]
  },
  {
   "cell_type": "code",
   "execution_count": 98,
   "id": "bdbdb7be",
   "metadata": {},
   "outputs": [
    {
     "name": "stdout",
     "output_type": "stream",
     "text": [
      "Training Scores:\n",
      "\tAccuracy = 1.0\n",
      "\tPrecision = 1.0\n",
      "\tRecall = 1.0\n",
      "\tF1-Score = 1.0\n"
     ]
    }
   ],
   "source": [
    "training_scores(y_train_smt, y_train_predict)"
   ]
  },
  {
   "cell_type": "code",
   "execution_count": 99,
   "id": "93cfecf2",
   "metadata": {},
   "outputs": [
    {
     "name": "stdout",
     "output_type": "stream",
     "text": [
      "Testing Scores:\n",
      "\tAccuracy = 0.83\n",
      "\tPrecision = 0.595\n",
      "\tRecall = 0.717\n",
      "\tF1-Score = 0.65\n"
     ]
    }
   ],
   "source": [
    "y_test_predict = dtc.predict(vectorized_x_test)\n",
    "validation_scores(y_test_predict, y_test)"
   ]
  },
  {
   "cell_type": "markdown",
   "id": "24f29e35",
   "metadata": {},
   "source": [
    "#### Random Forest"
   ]
  },
  {
   "cell_type": "code",
   "execution_count": 100,
   "id": "2e59bd2a",
   "metadata": {},
   "outputs": [],
   "source": [
    "rfc = RandomForestClassifier()\n",
    "rfc.fit(vectorized_x_train_smt,y_train_smt)\n",
    "y_train_predict = rfc.predict(vectorized_x_train_smt)"
   ]
  },
  {
   "cell_type": "code",
   "execution_count": 101,
   "id": "9358228a",
   "metadata": {},
   "outputs": [
    {
     "name": "stdout",
     "output_type": "stream",
     "text": [
      "Training Scores:\n",
      "\tAccuracy = 1.0\n",
      "\tPrecision = 1.0\n",
      "\tRecall = 1.0\n",
      "\tF1-Score = 1.0\n"
     ]
    }
   ],
   "source": [
    "training_scores(y_train_smt, y_train_predict)"
   ]
  },
  {
   "cell_type": "code",
   "execution_count": 102,
   "id": "7e057e16",
   "metadata": {},
   "outputs": [
    {
     "name": "stdout",
     "output_type": "stream",
     "text": [
      "Testing Scores:\n",
      "\tAccuracy = 0.877\n",
      "\tPrecision = 0.72\n",
      "\tRecall = 0.798\n",
      "\tF1-Score = 0.757\n"
     ]
    }
   ],
   "source": [
    "y_test_predict = rfc.predict(vectorized_x_test)\n",
    "validation_scores(y_test_predict, y_test)"
   ]
  },
  {
   "cell_type": "markdown",
   "id": "4802b287",
   "metadata": {},
   "source": [
    "#### Support Vector Machine"
   ]
  },
  {
   "cell_type": "code",
   "execution_count": 104,
   "id": "77d4d8b6",
   "metadata": {},
   "outputs": [],
   "source": [
    "svm = SVC()\n",
    "svm.fit(vectorized_x_train_smt,y_train_smt)\n",
    "y_train_predict = svm.predict(vectorized_x_train_smt)"
   ]
  },
  {
   "cell_type": "code",
   "execution_count": 105,
   "id": "2682b24e",
   "metadata": {},
   "outputs": [
    {
     "name": "stdout",
     "output_type": "stream",
     "text": [
      "Training Scores:\n",
      "\tAccuracy = 0.977\n",
      "\tPrecision = 0.96\n",
      "\tRecall = 0.996\n",
      "\tF1-Score = 0.978\n"
     ]
    }
   ],
   "source": [
    "training_scores(y_train_smt, y_train_predict)"
   ]
  },
  {
   "cell_type": "code",
   "execution_count": 106,
   "id": "1e9c241e",
   "metadata": {},
   "outputs": [
    {
     "name": "stdout",
     "output_type": "stream",
     "text": [
      "Testing Scores:\n",
      "\tAccuracy = 0.895\n",
      "\tPrecision = 0.834\n",
      "\tRecall = 0.784\n",
      "\tF1-Score = 0.808\n"
     ]
    }
   ],
   "source": [
    "y_test_predict = svm.predict(vectorized_x_test)\n",
    "validation_scores(y_test_predict, y_test)"
   ]
  },
  {
   "cell_type": "code",
   "execution_count": 107,
   "id": "472d2966",
   "metadata": {},
   "outputs": [],
   "source": [
    "import pickle\n",
    "\n",
    "with open('../static/model/model.pickle', 'wb') as file:\n",
    "    pickle.dump(lr, file)\n",
    "# used method is logistic regression"
   ]
  }
 ],
 "metadata": {
  "kernelspec": {
   "display_name": "Python 3 (ipykernel)",
   "language": "python",
   "name": "python3"
  },
  "language_info": {
   "codemirror_mode": {
    "name": "ipython",
    "version": 3
   },
   "file_extension": ".py",
   "mimetype": "text/x-python",
   "name": "python",
   "nbconvert_exporter": "python",
   "pygments_lexer": "ipython3",
   "version": "3.9.7"
  }
 },
 "nbformat": 4,
 "nbformat_minor": 5
}
